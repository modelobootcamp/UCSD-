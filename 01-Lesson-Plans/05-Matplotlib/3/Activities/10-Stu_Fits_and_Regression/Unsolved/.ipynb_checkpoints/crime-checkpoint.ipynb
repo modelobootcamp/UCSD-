{
 "cells": [
  {
   "cell_type": "code",
   "execution_count": 1,
   "metadata": {},
   "outputs": [],
   "source": [
    "%matplotlib notebook"
   ]
  },
  {
   "cell_type": "markdown",
   "metadata": {},
   "source": [
    "# Fits and Regression\n",
    "\n",
    "This activity gives students an opportunity to use scipy to fit data, and matplotlib to display the fit.\n",
    "\n",
    "## Instructions\n",
    "\n",
    "- Import `stats` from the scipy module, along with `numpy` and `pandas`.\n",
    "\n",
    "- Use Pandas to read the `crime_data.csv` provided in the Resources directory.\n",
    "\n",
    "- Use `iloc` to isolate the year column.\n",
    "\n",
    "- Use iloc to isolate the total violent crime rate, murder rate, and aggravated assault rate columns into separate variables for each statistic.\n",
    "\n",
    "- Use `stats.linregress` to perform a linear regression with the year and violent crime rate columns.\n",
    "\n",
    "- Use `stats.linregress` to perform a linear regression with the year and murder rate columns.\n",
    "\n",
    "- Finally, use `stats.linregress` to perform a linear regression with the year and aggravated assault rate columns.\n",
    "\n",
    "- Use the information returned by `stats.linregress` to create an equation for a line describing each of the linear regressions you performed (see the hint below).\n",
    "\n",
    "  - You should end up with three separate lines.\n",
    "\n",
    "- Use `subplots` to create a figure with subplots that share an x-axis.\n",
    "\n",
    "- Use `plot` to plot each of the lines you created against the year.\n",
    "\n",
    "- Display the plot.\n",
    "\n",
    "## Bonus\n",
    "\n",
    "- Use the line you created for the total violent crime rate to determine what the violent crime rate will be in 2019.\n",
    "\n",
    "## Hints\n",
    "\n",
    "- See the documentation for [stats.linregress](https://docs.scipy.org/doc/scipy-0.19.0/reference/generated/scipy.stats.linregress.html).\n",
    "\n",
    "- Recall that `stats.linregress` returns a slope, called `m`, and a y-intercept, called `b`. These let you define a line for each fit by simply writing: `fit = m * year + b`, for each linear regression you perform.\n"
   ]
  },
  {
   "cell_type": "code",
   "execution_count": null,
   "metadata": {},
   "outputs": [],
   "source": []
  }
 ],
 "metadata": {
  "kernelspec": {
   "display_name": "Python 3",
   "language": "python",
   "name": "python3"
  },
  "language_info": {
   "codemirror_mode": {
    "name": "ipython",
    "version": 3
   },
   "file_extension": ".py",
   "mimetype": "text/x-python",
   "name": "python",
   "nbconvert_exporter": "python",
   "pygments_lexer": "ipython3",
   "version": "3.7.1"
  }
 },
 "nbformat": 4,
 "nbformat_minor": 2
}
