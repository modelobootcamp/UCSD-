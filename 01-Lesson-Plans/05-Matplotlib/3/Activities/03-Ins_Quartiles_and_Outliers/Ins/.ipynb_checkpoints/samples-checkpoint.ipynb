{
 "cells": [
  {
   "cell_type": "code",
   "execution_count": 1,
   "metadata": {},
   "outputs": [],
   "source": [
    "# Dependencies\n",
    "import numpy as np"
   ]
  },
  {
   "cell_type": "code",
   "execution_count": 4,
   "metadata": {},
   "outputs": [],
   "source": [
    "numbers = [3, 3, 4, 5, 5, 6, 7, 7, 8, 8, 9]\n",
    "\n",
    "median = \n"
   ]
  },
  {
   "cell_type": "code",
   "execution_count": 5,
   "metadata": {},
   "outputs": [
    {
     "name": "stdout",
     "output_type": "stream",
     "text": [
      "25th percentile of arr :  4.5\n",
      "75th percentile of arr :  7.5\n"
     ]
    }
   ],
   "source": [
    "print(\"25th percentile of arr : \", np.percentile(numbers, 25)) \n",
    "print(\"75th percentile of arr : \", np.percentile(numbers, 75)) "
   ]
  },
  {
   "cell_type": "code",
   "execution_count": null,
   "metadata": {},
   "outputs": [],
   "source": [
    "lower_quartile = \n",
    "upper_quartile = "
   ]
  }
 ],
 "metadata": {
  "kernelspec": {
   "display_name": "Python 3",
   "language": "python",
   "name": "python3"
  },
  "language_info": {
   "codemirror_mode": {
    "name": "ipython",
    "version": 3
   },
   "file_extension": ".py",
   "mimetype": "text/x-python",
   "name": "python",
   "nbconvert_exporter": "python",
   "pygments_lexer": "ipython3",
   "version": "3.7.1"
  }
 },
 "nbformat": 4,
 "nbformat_minor": 2
}
