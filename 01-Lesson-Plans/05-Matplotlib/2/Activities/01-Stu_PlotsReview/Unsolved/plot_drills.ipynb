{
 "cells": [
  {
   "cell_type": "code",
   "execution_count": 13,
   "metadata": {},
   "outputs": [],
   "source": [
    "# Import Dependencies\n",
    "import numpy as np\n",
    "import matplotlib.pyplot as plt"
   ]
  },
  {
   "cell_type": "code",
   "execution_count": 3,
   "metadata": {
    "collapsed": true
   },
   "outputs": [],
   "source": [
    "# DATASET 1\n",
    "gyms = [\"Crunch\", \"Planet Fitness\", \"NY Sports Club\", \"Rickie's Gym\"]\n",
    "members = [49, 92, 84, 53]"
   ]
  },
  {
   "cell_type": "code",
   "execution_count": null,
   "metadata": {},
   "outputs": [],
   "source": []
  },
  {
   "cell_type": "code",
   "execution_count": 4,
   "metadata": {
    "collapsed": true
   },
   "outputs": [],
   "source": [
    "# DATASET 2\n",
    "x_lim = 2 * np.pi\n",
    "x_axis = np.arange(0, x_lim, 0.1)\n",
    "sin = np.sin(x_axis)"
   ]
  },
  {
   "cell_type": "code",
   "execution_count": null,
   "metadata": {
    "collapsed": true
   },
   "outputs": [],
   "source": []
  },
  {
   "cell_type": "code",
   "execution_count": 5,
   "metadata": {},
   "outputs": [],
   "source": [
    "# DATASET 3\n",
    "gyms = [\"Crunch\", \"Planet Fitness\", \"NY Sports Club\", \"Rickie's Gym\"]\n",
    "members = [49, 92, 84, 53]\n",
    "x_axis = np.arange(0, len(gyms))\n",
    "colors = [\"yellowgreen\", \"red\", \"lightcoral\", \"lightskyblue\"]\n",
    "explode = (0, 0.05, 0, 0)"
   ]
  },
  {
   "cell_type": "code",
   "execution_count": 6,
   "metadata": {},
   "outputs": [
    {
     "data": {
      "text/plain": [
       "([<matplotlib.patches.Wedge at 0x1164fca90>,\n",
       "  <matplotlib.patches.Wedge at 0x11650d4a8>,\n",
       "  <matplotlib.patches.Wedge at 0x11650de48>,\n",
       "  <matplotlib.patches.Wedge at 0x116517828>],\n",
       " [Text(-1.0885520243047433, 0.15828610293404183, 'Crunch'),\n",
       "  Text(-0.13971978992963832, -1.1414807840266161, 'Planet Fitness'),\n",
       "  Text(1.052056328361426, 0.3212125183654517, 'NY Sports Club'),\n",
       "  Text(-0.2973545530206311, 1.0590468685558259, \"Rickie's Gym\")],\n",
       " [Text(-0.593755649620769, 0.08633787432765917, '17.6%'),\n",
       "  Text(-0.07897205517762164, -0.6451847909715654, '33.1%'),\n",
       "  Text(0.5738489063789596, 0.1752068281993373, '30.2%'),\n",
       "  Text(-0.16219339255670784, 0.5776619283031778, '19.1%')])"
      ]
     },
     "execution_count": 6,
     "metadata": {},
     "output_type": "execute_result"
    },
    {
     "data": {
      "image/png": "[encoded data removed]",
      "text/plain": [
       "<Figure size 432x288 with 1 Axes>"
      ]
     },
     "metadata": {},
     "output_type": "display_data"
    }
   ],
   "source": [
    "plt.pie(members, explode=explode, labels=gyms, colors=colors,\n",
    "        autopct=\"%1.1f%%\", shadow=True, startangle=140)"
   ]
  },
  {
   "cell_type": "code",
   "execution_count": 30,
   "metadata": {},
   "outputs": [],
   "source": [
    "# DATASET 4\n",
    "x_axis = np.arange(0, 10, 0.1)\n",
    "times = []\n",
    "for x in x_axis:\n",
    "    times.append(x * x + np.random.randint(0, np.ceil(max(x_axis))))"
   ]
  },
  {
   "cell_type": "code",
   "execution_count": 31,
   "metadata": {
    "collapsed": true
   },
   "outputs": [
    {
     "data": {
      "text/plain": [
       "[4.0,\n",
       " 8.01,\n",
       " 5.04,\n",
       " 0.09000000000000002,\n",
       " 8.16,\n",
       " 5.25,\n",
       " 3.3600000000000003,\n",
       " 4.49,\n",
       " 3.64,\n",
       " 3.81,\n",
       " 10.0,\n",
       " 7.21,\n",
       " 8.440000000000001,\n",
       " 9.69,\n",
       " 8.96,\n",
       " 4.25,\n",
       " 2.5600000000000005,\n",
       " 4.890000000000001,\n",
       " 4.24,\n",
       " 6.61,\n",
       " 9.0,\n",
       " 5.41,\n",
       " 11.84,\n",
       " 12.290000000000001,\n",
       " 11.760000000000002,\n",
       " 11.25,\n",
       " 13.760000000000002,\n",
       " 11.290000000000001,\n",
       " 14.840000000000002,\n",
       " 16.410000000000004,\n",
       " 9.0,\n",
       " 15.610000000000001,\n",
       " 15.240000000000002,\n",
       " 19.89,\n",
       " 15.560000000000002,\n",
       " 19.25,\n",
       " 16.96,\n",
       " 17.69,\n",
       " 22.44,\n",
       " 19.21,\n",
       " 21.0,\n",
       " 17.810000000000006,\n",
       " 23.64,\n",
       " 27.49,\n",
       " 20.360000000000003,\n",
       " 29.25,\n",
       " 27.160000000000004,\n",
       " 24.090000000000003,\n",
       " 28.040000000000006,\n",
       " 25.010000000000005,\n",
       " 32.0,\n",
       " 28.010000000000005,\n",
       " 32.040000000000006,\n",
       " 35.09,\n",
       " 37.160000000000004,\n",
       " 31.25,\n",
       " 36.36000000000001,\n",
       " 33.49,\n",
       " 40.64000000000001,\n",
       " 35.81,\n",
       " 38.0,\n",
       " 45.21000000000001,\n",
       " 38.440000000000005,\n",
       " 45.69000000000001,\n",
       " 46.96000000000001,\n",
       " 44.25,\n",
       " 52.56000000000001,\n",
       " 47.89,\n",
       " 48.24000000000001,\n",
       " 54.61000000000001,\n",
       " 54.0,\n",
       " 55.41000000000001,\n",
       " 54.84,\n",
       " 56.29000000000001,\n",
       " 61.760000000000005,\n",
       " 64.25,\n",
       " 58.760000000000005,\n",
       " 67.29,\n",
       " 66.84,\n",
       " 68.41,\n",
       " 72.0,\n",
       " 67.61,\n",
       " 70.24000000000002,\n",
       " 77.89000000000001,\n",
       " 72.56,\n",
       " 75.25,\n",
       " 73.96,\n",
       " 83.69000000000001,\n",
       " 77.44000000000001,\n",
       " 85.21000000000001,\n",
       " 83.0,\n",
       " 87.80999999999999,\n",
       " 84.64000000000001,\n",
       " 90.49000000000001,\n",
       " 89.36000000000001,\n",
       " 91.25,\n",
       " 94.16000000000003,\n",
       " 98.09000000000002,\n",
       " 104.04000000000002,\n",
       " 98.01]"
      ]
     },
     "execution_count": 31,
     "metadata": {},
     "output_type": "execute_result"
    }
   ],
   "source": [
    "times"
   ]
  },
  {
   "cell_type": "code",
   "execution_count": 32,
   "metadata": {},
   "outputs": [
    {
     "data": {
      "text/plain": [
       "<matplotlib.collections.PathCollection at 0x116a4db00>"
      ]
     },
     "execution_count": 32,
     "metadata": {},
     "output_type": "execute_result"
    },
    {
     "data": {
      "image/png": "[encoded data removed]",
      "text/plain": [
       "<Figure size 432x288 with 1 Axes>"
      ]
     },
     "metadata": {
      "needs_background": "light"
     },
     "output_type": "display_data"
    }
   ],
   "source": [
    "#scatterplot\n",
    "plt.scatter(x_axis, times , marker = '*', color = 'blue')"
   ]
  },
  {
   "cell_type": "code",
   "execution_count": 10,
   "metadata": {},
   "outputs": [
    {
     "name": "stdout",
     "output_type": "stream",
     "text": [
      "2\n",
      "1\n",
      "5\n",
      "10\n"
     ]
    }
   ],
   "source": [
    "for x in x_axis:\n",
    "    print(x * x + np.random.randint(0, np.ceil(max(x_axis))))"
   ]
  },
  {
   "cell_type": "code",
   "execution_count": 21,
   "metadata": {},
   "outputs": [],
   "source": []
  },
  {
   "cell_type": "code",
   "execution_count": 29,
   "metadata": {},
   "outputs": [
    {
     "data": {
      "text/plain": [
       "10.0"
      ]
     },
     "execution_count": 29,
     "metadata": {},
     "output_type": "execute_result"
    }
   ],
   "source": []
  },
  {
   "cell_type": "code",
   "execution_count": null,
   "metadata": {},
   "outputs": [],
   "source": [
    "#Proof this is Master"
   ]
  }
 ],
 "metadata": {
  "kernelspec": {
   "display_name": "Python 3",
   "language": "python",
   "name": "python3"
  },
  "language_info": {
   "codemirror_mode": {
    "name": "ipython",
    "version": 3
   },
   "file_extension": ".py",
   "mimetype": "text/x-python",
   "name": "python",
   "nbconvert_exporter": "python",
   "pygments_lexer": "ipython3",
   "version": "3.7.1"
  }
 },
 "nbformat": 4,
 "nbformat_minor": 2
}
