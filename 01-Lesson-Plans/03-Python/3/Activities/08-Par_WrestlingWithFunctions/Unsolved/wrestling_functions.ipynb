{
 "cells": [
  {
   "cell_type": "markdown",
   "metadata": {},
   "source": [
    "# Wrestling with functions\n",
    "\n",
    "## Instructions\n",
    "\n",
    "* Analyze the code and CSV provided, looking specifically for what needs to still be added to the application.\n",
    "\n",
    "* Using the starter code provided, create a function called `getPercentages` which takes in a parameter called `wrestlerData` and does the following...\n",
    "\n",
    "  * Uses the data stored within `wrestlerData` to calculate the percentage of matches the wrestler won, lost, and drew over the course of a year.\n",
    "\n",
    "  * Prints out the stats for the wrestler to the terminal.\n",
    "\n",
    "## Bonus\n",
    "\n",
    "* Still within the `getPercentages()` function, create a conditional that checks a wrestler's loss percentage and prints either \"Jobber\" to the screen if the number was greater than fifty or \"Superstar\" if the number was less than 50.\n"
   ]
  },
  {
   "cell_type": "code",
   "execution_count": 5,
   "metadata": {},
   "outputs": [],
   "source": [
    "import os\n",
    "import csv\n",
    "\n",
    "# Path to collect data from the Resources folder\n",
    "path = os.path.join( '../Resources/WWE-Data-2016.csv') \n",
    "\n"
   ]
  },
  {
   "cell_type": "code",
   "execution_count": 21,
   "metadata": {},
   "outputs": [],
   "source": [
    "# Define the function and have it accept the 'wrestlerData' as its sole parameter\n",
    "\n",
    "\n",
    "\n",
    "def getPercentages(row ):\n",
    "\n",
    "    name = row [0]\n",
    "    wins = row[1]\n",
    "    loses = row[2]\n",
    "    draws = row[3]\n",
    "\n",
    "    \n",
    "    # Find the total number of matches wrestled\n",
    "    total_matches = int(wins) + int(loses) + int(draws)\n",
    "    \n",
    "    # Find the percentage of matches won\n",
    "    pct_wins = int(wins)/ total_matches * 100\n",
    "    \n",
    "    # Find the percentage of matches lost\n",
    "    \n",
    "    pct_loses = int(loses)/ total_matches * 100\n",
    "    # Find the percentage of matches drawn\n",
    "\n",
    "    \n",
    "    print (f\" the wredtler {name} has win percentage of {pct_wins} and loses {pct_loses}\")\n",
    "    \n",
    "    pass\n",
    "    "
   ]
  },
  {
   "cell_type": "code",
   "execution_count": null,
   "metadata": {},
   "outputs": [],
   "source": [
    "# Find the total number of matches wrestled\n",
    "\n",
    "\n",
    "\n",
    "# Find the percentage of matches won\n",
    "\n",
    "\n",
    "# Find the percentage of matches lost\n",
    "\n",
    "# Find the percentage of matches drawn\n",
    "\n",
    "# Print out the wrestler's name and their percentage stats"
   ]
  },
  {
   "cell_type": "code",
   "execution_count": null,
   "metadata": {},
   "outputs": [],
   "source": [
    "# Read in the CSV file\n",
    "with open(path, 'r') as csvfile:\n",
    "\n",
    "    # Split the data on commas\n",
    "    csvreader = csv.reader(csvfile, delimiter=',')\n",
    "\n",
    "    # Prompt the user for what wrestler they would like to search for\n",
    "    nameToCheck = input(\"What wrestler do you want to look for? \")\n",
    "\n",
    "    # Loop through the data\n",
    "    for row in csvreader:\n",
    "\n",
    "        # If the wrestler's name in a row is equal to that which the user input, run the 'getPercentages()' function\n",
    "        if(nameToCheck == row[0]):\n",
    "            #print (nameToCheck)\n",
    "            getPercentages(row)\n",
    "#         else:\n",
    "#             print('no name found')\n",
    "#Unit Test , Dean Ambrose\n",
    "\n"
   ]
  },
  {
   "cell_type": "code",
   "execution_count": 10,
   "metadata": {},
   "outputs": [],
   "source": [
    "# Dean Ambrose,133,67,4"
   ]
  },
  {
   "cell_type": "code",
   "execution_count": null,
   "metadata": {},
   "outputs": [],
   "source": []
  },
  {
   "cell_type": "code",
   "execution_count": null,
   "metadata": {},
   "outputs": [],
   "source": []
  }
 ],
 "metadata": {
  "kernelspec": {
   "display_name": "Python 3",
   "language": "python",
   "name": "python3"
  },
  "language_info": {
   "codemirror_mode": {
    "name": "ipython",
    "version": 3
   },
   "file_extension": ".py",
   "mimetype": "text/x-python",
   "name": "python",
   "nbconvert_exporter": "python",
   "pygments_lexer": "ipython3",
   "version": "3.7.1"
  }
 },
 "nbformat": 4,
 "nbformat_minor": 2
}
