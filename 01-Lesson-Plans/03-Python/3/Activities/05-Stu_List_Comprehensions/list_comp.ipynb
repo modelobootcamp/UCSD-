{
 "cells": [
  {
   "cell_type": "code",
   "execution_count": 5,
   "metadata": {},
   "outputs": [
    {
     "name": "stdout",
     "output_type": "stream",
     "text": [
      "Please enter the name of someone you know. Joon\n",
      "Please enter the name of someone you know. asDFASF\n",
      "Please enter the name of someone you know. AFAEWF\n",
      "Please enter the name of someone you know. ASFA\n",
      "Please enter the name of someone you know. ASDFAS\n"
     ]
    }
   ],
   "source": [
    "names = []\n",
    "for _ in range(5):\n",
    "    name = input(\"Please enter the name of someone you know. \")\n",
    "    names.append(name)"
   ]
  },
  {
   "cell_type": "code",
   "execution_count": 6,
   "metadata": {},
   "outputs": [
    {
     "name": "stdout",
     "output_type": "stream",
     "text": [
      "['Joon', 'asDFASF', 'AFAEWF', 'ASFA', 'ASDFAS']\n"
     ]
    }
   ],
   "source": [
    "print(names)"
   ]
  },
  {
   "cell_type": "code",
   "execution_count": 19,
   "metadata": {},
   "outputs": [],
   "source": [
    "# @TODO: Use a list comprehension to create a list of lowercased names\n",
    "lowercased = [ x.lower() for  x  in   names ]"
   ]
  },
  {
   "cell_type": "code",
   "execution_count": 12,
   "metadata": {},
   "outputs": [
    {
     "name": "stdout",
     "output_type": "stream",
     "text": [
      "['JOON', 'ASDFASF', 'AFAEWF', 'ASFA', 'ASDFAS']\n"
     ]
    }
   ],
   "source": [
    "print(lowercased)"
   ]
  },
  {
   "cell_type": "code",
   "execution_count": 14,
   "metadata": {},
   "outputs": [],
   "source": [
    "# @TODO: Use a list comprehension to create a list of titlecased names\n",
    "# https://www.tutorialspoint.com/python/string_title.htm\n",
    "titlecased = [  name.title() for name in names ]"
   ]
  },
  {
   "cell_type": "code",
   "execution_count": 15,
   "metadata": {},
   "outputs": [
    {
     "name": "stdout",
     "output_type": "stream",
     "text": [
      "['Joon', 'Asdfasf', 'Afaewf', 'Asfa', 'Asdfas']\n"
     ]
    }
   ],
   "source": [
    "print(titlecased)"
   ]
  },
  {
   "cell_type": "code",
   "execution_count": 23,
   "metadata": {},
   "outputs": [
    {
     "name": "stdout",
     "output_type": "stream",
     "text": [
      "['Joon', 'Asdfasf', 'Afaewf', 'Asfa', 'Asdfas']\n"
     ]
    }
   ],
   "source": [
    "print([ name for name in titlecased])\n",
    "\n",
    "\n",
    "#invitations = [ f\"Dear {name}, please come to the wedding this Saturday!\" for name in titlecased]\n",
    "\n",
    "\n",
    "\n",
    "\n",
    "\n",
    "\n",
    "\n",
    "# for invitation in invitations:\n",
    "#     print(invitation)"
   ]
  },
  {
   "cell_type": "code",
   "execution_count": null,
   "metadata": {},
   "outputs": [],
   "source": []
  },
  {
   "cell_type": "code",
   "execution_count": null,
   "metadata": {},
   "outputs": [],
   "source": []
  },
  {
   "cell_type": "code",
   "execution_count": null,
   "metadata": {},
   "outputs": [],
   "source": []
  },
  {
   "cell_type": "code",
   "execution_count": null,
   "metadata": {},
   "outputs": [],
   "source": []
  }
 ],
 "metadata": {
  "kernelspec": {
   "display_name": "Python 3",
   "language": "python",
   "name": "python3"
  },
  "language_info": {
   "codemirror_mode": {
    "name": "ipython",
    "version": 3
   },
   "file_extension": ".py",
   "mimetype": "text/x-python",
   "name": "python",
   "nbconvert_exporter": "python",
   "pygments_lexer": "ipython3",
   "version": "3.7.1"
  }
 },
 "nbformat": 4,
 "nbformat_minor": 2
}
