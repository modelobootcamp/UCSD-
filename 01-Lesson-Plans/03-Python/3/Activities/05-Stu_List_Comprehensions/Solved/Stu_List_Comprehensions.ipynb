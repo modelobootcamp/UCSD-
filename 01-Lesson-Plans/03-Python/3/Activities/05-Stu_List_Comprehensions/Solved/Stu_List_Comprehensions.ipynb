{
 "cells": [
  {
   "cell_type": "code",
   "execution_count": 3,
   "metadata": {},
   "outputs": [
    {
     "name": "stdout",
     "output_type": "stream",
     "text": [
      "Please enter the name of someone you know. dfa\n",
      "Please enter the name of someone you know. adf\n",
      "Please enter the name of someone you know. afd\n",
      "Please enter the name of someone you know. af\n",
      "Please enter the name of someone you know. af\n"
     ]
    }
   ],
   "source": [
    "names = []\n",
    "for x in range(5):\n",
    "    name = input(\"Please enter the name of someone you know. \")\n",
    "    names.append(name)"
   ]
  },
  {
   "cell_type": "code",
   "execution_count": 4,
   "metadata": {},
   "outputs": [
    {
     "name": "stdout",
     "output_type": "stream",
     "text": [
      "Dear Dfa, please come to the wedding this Saturday!\n",
      "Dear Adf, please come to the wedding this Saturday!\n",
      "Dear Afd, please come to the wedding this Saturday!\n",
      "Dear Af, please come to the wedding this Saturday!\n",
      "Dear Af, please come to the wedding this Saturday!\n"
     ]
    }
   ],
   "source": [
    "lowercased = [name.lower() for name in names]\n",
    "titlecased = [name.title() for name in lowercased]\n",
    "invitations = [\n",
    "    f\"Dear {name}, please come to the wedding this Saturday!\" for name in titlecased]\n",
    "\n",
    "for invitation in invitations:\n",
    "    print(invitation)"
   ]
  },
  {
   "cell_type": "code",
   "execution_count": null,
   "metadata": {},
   "outputs": [],
   "source": []
  }
 ],
 "metadata": {
  "kernelspec": {
   "display_name": "Python 3",
   "language": "python",
   "name": "python3"
  },
  "language_info": {
   "codemirror_mode": {
    "name": "ipython",
    "version": 3
   },
   "file_extension": ".py",
   "mimetype": "text/x-python",
   "name": "python",
   "nbconvert_exporter": "python",
   "pygments_lexer": "ipython3",
   "version": "3.7.1"
  }
 },
 "nbformat": 4,
 "nbformat_minor": 2
}
