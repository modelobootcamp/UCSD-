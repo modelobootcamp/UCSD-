{
 "cells": [
  {
   "cell_type": "code",
   "execution_count": null,
   "metadata": {},
   "outputs": [],
   "source": [
    "# Write a function that returns the arithmetic average for a list of numbers\n",
    "def average(numbers):\n",
    "    length = len(numbers)\n",
    "    total = 0.0\n",
    "    for number in numbers:\n",
    "        total += number\n",
    "    return total / length\n",
    "\n",
    "\n",
    "# Test your function with the following:\n",
    "print(average([1, 5, 9]))\n",
    "print(average(range(11)))"
   ]
  }
 ],
 "metadata": {
  "kernelspec": {
   "display_name": "Python 3",
   "language": "python",
   "name": "python3"
  },
  "language_info": {
   "codemirror_mode": {
    "name": "ipython",
    "version": 3
   },
   "file_extension": ".py",
   "mimetype": "text/x-python",
   "name": "python",
   "nbconvert_exporter": "python",
   "pygments_lexer": "ipython3",
   "version": "3.7.1"
  }
 },
 "nbformat": 4,
 "nbformat_minor": 2
}
