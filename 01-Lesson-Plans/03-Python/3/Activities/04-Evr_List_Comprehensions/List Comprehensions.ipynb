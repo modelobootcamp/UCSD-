{
 "cells": [
  {
   "cell_type": "code",
   "execution_count": null,
   "metadata": {},
   "outputs": [],
   "source": [
    "#building a list\n",
    "\n",
    "#using multicursor\n",
    "\n",
    "'''\n",
    "White Chicks\n",
    "Lucky Number Slevin\n",
    "Grey's Anatomy\n",
    "Prison Break\n",
    "How I Met Your Mother\n",
    "Supernatural\n",
    "Breaking Bad\n",
    "The Vampire Diaries\n",
    "The Walking Dead\n",
    "Pretty Little Liars\n",
    "Once Upon a Time\n",
    "Sherlock\n",
    "Death Note\n",
    "'''"
   ]
  },
  {
   "cell_type": "code",
   "execution_count": 7,
   "metadata": {},
   "outputs": [
    {
     "name": "stdout",
     "output_type": "stream",
     "text": [
      "['Sherlock', ' Death Note ']\n"
     ]
    }
   ],
   "source": [
    "# split is also available in python.\n",
    "\n",
    "netflix = \"\".split(',')\n",
    "\n",
    "# Loop through each letter in the string\n",
    "# and push to an array\n",
    "playlist = []\n",
    "for title in netflix:\n",
    "    playlist.append(title)\n",
    "\n",
    "print(playlist)"
   ]
  },
  {
   "cell_type": "code",
   "execution_count": 11,
   "metadata": {},
   "outputs": [
    {
     "name": "stdout",
     "output_type": "stream",
     "text": [
      "[' Death Note ', ' Death Note ']\n"
     ]
    }
   ],
   "source": [
    "# List comprehensions provide concise syntax for creating lists\n",
    "playlist = [title for movie in netflix]\n",
    "\n",
    "print(playlist)"
   ]
  },
  {
   "cell_type": "code",
   "execution_count": 12,
   "metadata": {},
   "outputs": [
    {
     "name": "stdout",
     "output_type": "stream",
     "text": [
      "[' DEATH NOTE ', ' DEATH NOTE ']\n"
     ]
    }
   ],
   "source": [
    "# We can manipulate each element as we go\n",
    "capital_title = []\n",
    "for title in playlist:\n",
    "    capital_title.append(title.upper())\n",
    "\n",
    "print(capital_title)"
   ]
  },
  {
   "cell_type": "code",
   "execution_count": 14,
   "metadata": {},
   "outputs": [
    {
     "name": "stdout",
     "output_type": "stream",
     "text": [
      "['SHERLOCK', ' DEATH NOTE ']\n"
     ]
    }
   ],
   "source": [
    "# List Comprehension for the above\n",
    "capital_title = [x.upper() for x in netflix]\n",
    "\n",
    "print(capital_title)"
   ]
  },
  {
   "cell_type": "code",
   "execution_count": 5,
   "metadata": {},
   "outputs": [
    {
     "name": "stdout",
     "output_type": "stream",
     "text": [
      "[92, 106]\n",
      "[92, 106]\n"
     ]
    }
   ],
   "source": [
    "# We can also add conditional logic (if statements) to a list comprehension\n",
    "july_temperatures = [87, 85, 92, 79, 106]\n",
    "hot_days = []\n",
    "for temperature in july_temperatures:\n",
    "    if temperature > 90:\n",
    "        hot_days.append(temperature)\n",
    "print(hot_days)\n",
    "\n",
    "# List Comprehension with conditional\n",
    "hot_days = [temperature for temperature in july_temperatures if temperature > 90]\n",
    "\n",
    "print(hot_days)"
   ]
  },
  {
   "cell_type": "code",
   "execution_count": null,
   "metadata": {},
   "outputs": [],
   "source": []
  }
 ],
 "metadata": {
  "kernelspec": {
   "display_name": "Python 3",
   "language": "python",
   "name": "python3"
  },
  "language_info": {
   "codemirror_mode": {
    "name": "ipython",
    "version": 3
   },
   "file_extension": ".py",
   "mimetype": "text/x-python",
   "name": "python",
   "nbconvert_exporter": "python",
   "pygments_lexer": "ipython3",
   "version": "3.7.1"
  }
 },
 "nbformat": 4,
 "nbformat_minor": 2
}
