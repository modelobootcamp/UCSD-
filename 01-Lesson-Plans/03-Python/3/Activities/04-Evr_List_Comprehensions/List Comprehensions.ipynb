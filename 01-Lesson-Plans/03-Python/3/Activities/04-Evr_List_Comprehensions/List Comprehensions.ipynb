{
 "cells": [
  {
   "cell_type": "code",
   "execution_count": 69,
   "metadata": {},
   "outputs": [],
   "source": [
    "#building a list\n",
    "\n",
    "#using multicursor\n",
    "\n",
    "netflix_string = '''White Chicks,Lucky Number Slevin,Grey's Anatomy,Prison Break,How I Met Your Mother,Supernatural,Breaking Bad,The Vampire Diaries,The Walking Dead,Pretty Little Liars,Once Upon a Time,Sherlock,Death Note'''\n",
    "netflix = netflix_string.split(',')\n",
    "\n"
   ]
  },
  {
   "cell_type": "code",
   "execution_count": 61,
   "metadata": {},
   "outputs": [
    {
     "data": {
      "text/plain": [
       "\"White Chicks,Lucky Number Slevin,Grey's Anatomy,Prison Break,How I Met Your Mother,Supernatural,Breaking Bad,The Vampire Diaries,The Walking Dead,Pretty Little Liars,Once Upon a Time,Sherlock,Death Note\""
      ]
     },
     "execution_count": 61,
     "metadata": {},
     "output_type": "execute_result"
    }
   ],
   "source": [
    "netflix\n"
   ]
  },
  {
   "cell_type": "code",
   "execution_count": 62,
   "metadata": {},
   "outputs": [],
   "source": [
    "netflix_list = netflix.split(',')"
   ]
  },
  {
   "cell_type": "code",
   "execution_count": 63,
   "metadata": {},
   "outputs": [
    {
     "data": {
      "text/plain": [
       "['White Chicks',\n",
       " 'Lucky Number Slevin',\n",
       " \"Grey's Anatomy\",\n",
       " 'Prison Break',\n",
       " 'How I Met Your Mother',\n",
       " 'Supernatural',\n",
       " 'Breaking Bad',\n",
       " 'The Vampire Diaries',\n",
       " 'The Walking Dead',\n",
       " 'Pretty Little Liars',\n",
       " 'Once Upon a Time',\n",
       " 'Sherlock',\n",
       " 'Death Note']"
      ]
     },
     "execution_count": 63,
     "metadata": {},
     "output_type": "execute_result"
    }
   ],
   "source": [
    "netflix_list"
   ]
  },
  {
   "cell_type": "code",
   "execution_count": 59,
   "metadata": {},
   "outputs": [
    {
     "name": "stdout",
     "output_type": "stream",
     "text": [
      "\"OF MICE AND MEN\" BY JOHN 'MALLEY \n"
     ]
    }
   ],
   "source": [
    "print('''\"Of Mice and Men\" by John 'Malley '''.upper())"
   ]
  },
  {
   "cell_type": "code",
   "execution_count": null,
   "metadata": {},
   "outputs": [],
   "source": []
  },
  {
   "cell_type": "code",
   "execution_count": null,
   "metadata": {},
   "outputs": [],
   "source": []
  },
  {
   "cell_type": "code",
   "execution_count": null,
   "metadata": {},
   "outputs": [],
   "source": []
  },
  {
   "cell_type": "code",
   "execution_count": null,
   "metadata": {},
   "outputs": [],
   "source": []
  },
  {
   "cell_type": "code",
   "execution_count": 60,
   "metadata": {},
   "outputs": [
    {
     "data": {
      "text/plain": [
       "\"White Chicks,Lucky Number Slevin,Grey's Anatomy,Prison Break,How I Met Your Mother,Supernatural,Breaking Bad,The Vampire Diaries,The Walking Dead,Pretty Little Liars,Once Upon a Time,Sherlock,Death Note\""
      ]
     },
     "execution_count": 60,
     "metadata": {},
     "output_type": "execute_result"
    }
   ],
   "source": [
    "netflix"
   ]
  },
  {
   "cell_type": "code",
   "execution_count": 77,
   "metadata": {},
   "outputs": [
    {
     "name": "stdout",
     "output_type": "stream",
     "text": [
      "['White Chicks', 'Lucky Number Slevin', \"Grey's Anatomy\", 'Prison Break', 'How I Met Your Mother', 'Supernatural', 'Breaking Bad', 'The Vampire Diaries', 'The Walking Dead', 'Pretty Little Liars', 'Once Upon a Time', 'Sherlock', 'Death Note']\n"
     ]
    }
   ],
   "source": [
    "# split is also available in python.\n",
    "\n",
    "#netflix = \"\".split(',')\n",
    "\n",
    "# Loop through each letter in the string\n",
    "# and push to an array\n",
    "\n",
    "playlist = []\n",
    "\n",
    "for title in netflix:\n",
    "    playlist.append(title)\n",
    "\n",
    "print(playlist)"
   ]
  },
  {
   "cell_type": "code",
   "execution_count": 71,
   "metadata": {},
   "outputs": [],
   "source": [
    "playlist.append('Terminator')"
   ]
  },
  {
   "cell_type": "code",
   "execution_count": 14,
   "metadata": {},
   "outputs": [
    {
     "name": "stdout",
     "output_type": "stream",
     "text": [
      "['SHERLOCK', ' DEATH NOTE ']\n"
     ]
    }
   ],
   "source": [
    "# List Comprehension for the above\n",
    "capital_title = [x.upper() for x in netflix]\n",
    "\n",
    "print(capital_title)"
   ]
  },
  {
   "cell_type": "code",
   "execution_count": null,
   "metadata": {},
   "outputs": [],
   "source": []
  },
  {
   "cell_type": "code",
   "execution_count": null,
   "metadata": {},
   "outputs": [],
   "source": []
  },
  {
   "cell_type": "code",
   "execution_count": 79,
   "metadata": {},
   "outputs": [],
   "source": [
    "movies = ['White Chicks', 'Lucky Number Slevin', \"Grey's Anatomy\", 'Prison Break', 'How I Met Your Mother', 'Supernatural', 'Breaking Bad', 'The Vampire Diaries', 'The Walking Dead', 'Pretty Little Liars', 'Once Upon a Time', 'Sherlock', 'Death Note']"
   ]
  },
  {
   "cell_type": "code",
   "execution_count": 80,
   "metadata": {},
   "outputs": [
    {
     "data": {
      "text/plain": [
       "['White Chicks',\n",
       " 'Lucky Number Slevin',\n",
       " \"Grey's Anatomy\",\n",
       " 'Prison Break',\n",
       " 'How I Met Your Mother',\n",
       " 'Supernatural',\n",
       " 'Breaking Bad',\n",
       " 'The Vampire Diaries',\n",
       " 'The Walking Dead',\n",
       " 'Pretty Little Liars',\n",
       " 'Once Upon a Time',\n",
       " 'Sherlock',\n",
       " 'Death Note']"
      ]
     },
     "execution_count": 80,
     "metadata": {},
     "output_type": "execute_result"
    }
   ],
   "source": [
    "movies"
   ]
  },
  {
   "cell_type": "code",
   "execution_count": 81,
   "metadata": {},
   "outputs": [
    {
     "data": {
      "text/plain": [
       "13"
      ]
     },
     "execution_count": 81,
     "metadata": {},
     "output_type": "execute_result"
    }
   ],
   "source": [
    "len(movies)"
   ]
  },
  {
   "cell_type": "code",
   "execution_count": 102,
   "metadata": {},
   "outputs": [],
   "source": [
    "movies_with_the = [ element.upper() for  element in movies  if len(element) < 10 ]"
   ]
  },
  {
   "cell_type": "code",
   "execution_count": 103,
   "metadata": {},
   "outputs": [],
   "source": [
    "# list pythons"
   ]
  },
  {
   "cell_type": "code",
   "execution_count": 104,
   "metadata": {},
   "outputs": [
    {
     "name": "stdout",
     "output_type": "stream",
     "text": [
      "['SHERLOCK']\n"
     ]
    }
   ],
   "source": [
    "print(movies_with_the)"
   ]
  },
  {
   "cell_type": "code",
   "execution_count": 5,
   "metadata": {},
   "outputs": [
    {
     "name": "stdout",
     "output_type": "stream",
     "text": [
      "[92, 106]\n",
      "[92, 106]\n"
     ]
    }
   ],
   "source": [
    "# We can also add conditional logic (if statements) to a list comprehension\n",
    "july_temperatures = [87, 85, 92, 79, 106]\n",
    "\n",
    "\n",
    "hot_days = []\n",
    "\n",
    "for temperature in july_temperatures:\n",
    "    if temperature > 90:\n",
    "        hot_days.append(temperature)\n",
    "print(hot_days)\n",
    "\n",
    "# List Comprehension with conditional\n",
    "hot_days = [temperature for temperature in july_temperatures if temperature > 90]\n",
    "\n",
    "print(hot_days)"
   ]
  },
  {
   "cell_type": "code",
   "execution_count": null,
   "metadata": {},
   "outputs": [],
   "source": []
  }
 ],
 "metadata": {
  "kernelspec": {
   "display_name": "Python 3",
   "language": "python",
   "name": "python3"
  },
  "language_info": {
   "codemirror_mode": {
    "name": "ipython",
    "version": 3
   },
   "file_extension": ".py",
   "mimetype": "text/x-python",
   "name": "python",
   "nbconvert_exporter": "python",
   "pygments_lexer": "ipython3",
   "version": "3.7.1"
  }
 },
 "nbformat": 4,
 "nbformat_minor": 2
}
