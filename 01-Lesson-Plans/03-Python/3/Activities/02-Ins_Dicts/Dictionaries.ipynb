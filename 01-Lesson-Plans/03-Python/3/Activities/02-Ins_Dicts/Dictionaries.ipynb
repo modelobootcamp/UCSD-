{
 "cells": [
  {
   "cell_type": "code",
   "execution_count": 1,
   "metadata": {},
   "outputs": [
    {
     "name": "stdout",
     "output_type": "stream",
     "text": [
      "Tom Cruise\n",
      "Sylvester Stallone was in Rocky\n",
      "Interstellar made 360 in the US.\n"
     ]
    }
   ],
   "source": [
    "# Unlike lists, dictionaries store information in pairs\n",
    "# ---------------------------------------------------------------\n",
    "\n",
    "# A list of actors\n",
    "actors = [\"Tom Cruise\",\n",
    "          \"Angelina Jolie\",\n",
    "          \"Kristen Stewart\",\n",
    "          \"Denzel Washington\"]\n",
    "\n",
    "# A dictionary of an actor\n",
    "actor = {\"name\": \"Tom Cruise\"}\n",
    "print(f'{actor[\"name\"]}')\n",
    "\n",
    "# ---------------------------------------------------------------\n",
    "\n",
    "# A dictionary can contain multiple pairs of information\n",
    "actress = {\"name\": \"Angelina Jolie\", \"genre\": \"Action\", \"nationality\": \"United States\"}\n",
    "\n",
    "# ---------------------------------------------------------------\n",
    "\n",
    "# A dictionary can contain multiple types of information\n",
    "another_actor = {\n",
    "    \"name\": \"Sylvester Stallone\",\n",
    "    \"age\": 62,\n",
    "    \"married\": True,\n",
    "    \"best movies\": [\n",
    "        \"Rocky\",\n",
    "        \"Rocky 2\",\n",
    "        \"Rocky 3\"]}\n",
    "print(f'{another_actor[\"name\"]} was in {another_actor[\"best movies\"][0]}')\n",
    "# ---------------------------------------------------------------\n",
    "\n",
    "# A dictionary can even contain another dictionary\n",
    "film = {\"title\": \"Interstellar\",\n",
    "        \"revenues\": {\"United States\": 360, \"China\": 250, \"United Kingdom\": 73}}\n",
    "print(f'{film[\"title\"]} made {film[\"revenues\"][\"United States\"]}'\" in the US.\")\n",
    "# ---------------------------------------------------------------\n"
   ]
  },
  {
   "cell_type": "code",
   "execution_count": null,
   "metadata": {},
   "outputs": [],
   "source": []
  }
 ],
 "metadata": {
  "kernelspec": {
   "display_name": "Python 3",
   "language": "python",
   "name": "python3"
  },
  "language_info": {
   "codemirror_mode": {
    "name": "ipython",
    "version": 3
   },
   "file_extension": ".py",
   "mimetype": "text/x-python",
   "name": "python",
   "nbconvert_exporter": "python",
   "pygments_lexer": "ipython3",
   "version": "3.7.1"
  }
 },
 "nbformat": 4,
 "nbformat_minor": 2
}
