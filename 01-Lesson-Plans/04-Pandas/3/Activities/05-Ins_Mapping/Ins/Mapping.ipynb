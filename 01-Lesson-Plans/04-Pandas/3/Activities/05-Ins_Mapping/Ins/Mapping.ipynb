{
 "cells": [
  {
   "cell_type": "code",
   "execution_count": 1,
   "metadata": {},
   "outputs": [],
   "source": [
    "import pandas as pd"
   ]
  },
  {
   "cell_type": "code",
   "execution_count": 7,
   "metadata": {},
   "outputs": [
    {
     "data": {
      "text/html": [
       "<div>\n",
       "<style scoped>\n",
       "    .dataframe tbody tr th:only-of-type {\n",
       "        vertical-align: middle;\n",
       "    }\n",
       "\n",
       "    .dataframe tbody tr th {\n",
       "        vertical-align: top;\n",
       "    }\n",
       "\n",
       "    .dataframe thead th {\n",
       "        text-align: right;\n",
       "    }\n",
       "</style>\n",
       "<table border=\"1\" class=\"dataframe\">\n",
       "  <thead>\n",
       "    <tr style=\"text-align: right;\">\n",
       "      <th></th>\n",
       "      <th>id</th>\n",
       "      <th>city</th>\n",
       "      <th>avg_cost</th>\n",
       "      <th>population</th>\n",
       "      <th>other</th>\n",
       "    </tr>\n",
       "  </thead>\n",
       "  <tbody>\n",
       "    <tr>\n",
       "      <th>0</th>\n",
       "      <td>1</td>\n",
       "      <td>Houxiang</td>\n",
       "      <td>55.121518</td>\n",
       "      <td>609458</td>\n",
       "      <td>-15.66171</td>\n",
       "    </tr>\n",
       "    <tr>\n",
       "      <th>1</th>\n",
       "      <td>2</td>\n",
       "      <td>Leribe</td>\n",
       "      <td>95.782967</td>\n",
       "      <td>601963</td>\n",
       "      <td>-23.79499</td>\n",
       "    </tr>\n",
       "    <tr>\n",
       "      <th>2</th>\n",
       "      <td>3</td>\n",
       "      <td>Hengshan</td>\n",
       "      <td>57.867827</td>\n",
       "      <td>589509</td>\n",
       "      <td>1.31471</td>\n",
       "    </tr>\n",
       "    <tr>\n",
       "      <th>3</th>\n",
       "      <td>4</td>\n",
       "      <td>Sogcho</td>\n",
       "      <td>59.220634</td>\n",
       "      <td>948491</td>\n",
       "      <td>-11.38280</td>\n",
       "    </tr>\n",
       "    <tr>\n",
       "      <th>4</th>\n",
       "      <td>5</td>\n",
       "      <td>Kohlu</td>\n",
       "      <td>23.092232</td>\n",
       "      <td>92206</td>\n",
       "      <td>7.66861</td>\n",
       "    </tr>\n",
       "  </tbody>\n",
       "</table>\n",
       "</div>"
      ],
      "text/plain": [
       "   id      city   avg_cost  population     other\n",
       "0   1  Houxiang  55.121518      609458 -15.66171\n",
       "1   2    Leribe  95.782967      601963 -23.79499\n",
       "2   3  Hengshan  57.867827      589509   1.31471\n",
       "3   4    Sogcho  59.220634      948491 -11.38280\n",
       "4   5     Kohlu  23.092232       92206   7.66861"
      ]
     },
     "execution_count": 7,
     "metadata": {},
     "output_type": "execute_result"
    }
   ],
   "source": [
    "# Mapping lets you format an entire DataFrame\n",
    "file = \"Resources/sample_data.csv\"\n",
    "file_df = pd.read_csv(file)\n",
    "file_df.head()"
   ]
  },
  {
   "cell_type": "code",
   "execution_count": 11,
   "metadata": {},
   "outputs": [
    {
     "data": {
      "text/plain": [
       "0      55.121518\n",
       "1      95.782967\n",
       "2      57.867827\n",
       "3      59.220634\n",
       "4      23.092232\n",
       "5      86.173824\n",
       "6      99.933563\n",
       "7      34.180978\n",
       "8      32.884656\n",
       "9      54.163504\n",
       "10     32.480619\n",
       "11     73.736768\n",
       "12     67.708518\n",
       "13     34.758322\n",
       "14     65.074144\n",
       "15     26.275509\n",
       "16     13.288432\n",
       "17     83.193785\n",
       "18     56.050060\n",
       "19     61.322806\n",
       "20      7.967056\n",
       "21     75.945847\n",
       "22     14.814905\n",
       "23     59.315756\n",
       "24     55.272240\n",
       "25     43.555685\n",
       "26     60.342238\n",
       "27     53.749434\n",
       "28     36.057994\n",
       "29     90.948289\n",
       "         ...    \n",
       "970    21.594802\n",
       "971     5.463305\n",
       "972     1.875208\n",
       "973    44.849359\n",
       "974    55.909189\n",
       "975    67.708294\n",
       "976    15.172049\n",
       "977    37.587172\n",
       "978    61.389129\n",
       "979    48.576635\n",
       "980    61.593724\n",
       "981    81.640882\n",
       "982    73.722096\n",
       "983    57.718374\n",
       "984    55.075394\n",
       "985     7.690116\n",
       "986     9.979831\n",
       "987    48.834794\n",
       "988    34.910927\n",
       "989    18.177172\n",
       "990    18.395238\n",
       "991    50.362894\n",
       "992    98.900931\n",
       "993    96.629252\n",
       "994    53.759515\n",
       "995    43.955867\n",
       "996    24.995609\n",
       "997    50.693455\n",
       "998    76.058354\n",
       "999    21.435925\n",
       "Name: avg_cost, Length: 1000, dtype: float64"
      ]
     },
     "execution_count": 11,
     "metadata": {},
     "output_type": "execute_result"
    }
   ],
   "source": [
    "file_df[\"avg_cost\"].map()\n",
    "\n",
    "\n"
   ]
  },
  {
   "cell_type": "code",
   "execution_count": 4,
   "metadata": {},
   "outputs": [
    {
     "data": {
      "text/html": [
       "<div>\n",
       "<style scoped>\n",
       "    .dataframe tbody tr th:only-of-type {\n",
       "        vertical-align: middle;\n",
       "    }\n",
       "\n",
       "    .dataframe tbody tr th {\n",
       "        vertical-align: top;\n",
       "    }\n",
       "\n",
       "    .dataframe thead th {\n",
       "        text-align: right;\n",
       "    }\n",
       "</style>\n",
       "<table border=\"1\" class=\"dataframe\">\n",
       "  <thead>\n",
       "    <tr style=\"text-align: right;\">\n",
       "      <th></th>\n",
       "      <th>id</th>\n",
       "      <th>city</th>\n",
       "      <th>avg_cost</th>\n",
       "      <th>population</th>\n",
       "      <th>other</th>\n",
       "    </tr>\n",
       "  </thead>\n",
       "  <tbody>\n",
       "    <tr>\n",
       "      <th>0</th>\n",
       "      <td>1</td>\n",
       "      <td>Houxiang</td>\n",
       "      <td>$55.12</td>\n",
       "      <td>609,458</td>\n",
       "      <td>-15.66</td>\n",
       "    </tr>\n",
       "    <tr>\n",
       "      <th>1</th>\n",
       "      <td>2</td>\n",
       "      <td>Leribe</td>\n",
       "      <td>$95.78</td>\n",
       "      <td>601,963</td>\n",
       "      <td>-23.79</td>\n",
       "    </tr>\n",
       "    <tr>\n",
       "      <th>2</th>\n",
       "      <td>3</td>\n",
       "      <td>Hengshan</td>\n",
       "      <td>$57.87</td>\n",
       "      <td>589,509</td>\n",
       "      <td>1.31</td>\n",
       "    </tr>\n",
       "    <tr>\n",
       "      <th>3</th>\n",
       "      <td>4</td>\n",
       "      <td>Sogcho</td>\n",
       "      <td>$59.22</td>\n",
       "      <td>948,491</td>\n",
       "      <td>-11.38</td>\n",
       "    </tr>\n",
       "    <tr>\n",
       "      <th>4</th>\n",
       "      <td>5</td>\n",
       "      <td>Kohlu</td>\n",
       "      <td>$23.09</td>\n",
       "      <td>92,206</td>\n",
       "      <td>7.67</td>\n",
       "    </tr>\n",
       "  </tbody>\n",
       "</table>\n",
       "</div>"
      ],
      "text/plain": [
       "   id      city avg_cost population   other\n",
       "0   1  Houxiang   $55.12    609,458  -15.66\n",
       "1   2    Leribe   $95.78    601,963  -23.79\n",
       "2   3  Hengshan   $57.87    589,509    1.31\n",
       "3   4    Sogcho   $59.22    948,491  -11.38\n",
       "4   5     Kohlu   $23.09     92,206    7.67"
      ]
     },
     "execution_count": 4,
     "metadata": {},
     "output_type": "execute_result"
    }
   ],
   "source": [
    "# Use Map to format all the columns\n",
    "file_df[\"avg_cost\"] = file_df[\"avg_cost\"].map(\"${:.2f}\".format)\n",
    "file_df[\"population\"] = file_df[\"population\"].map(\"{:,}\".format)\n",
    "file_df[\"other\"] = file_df[\"other\"].map(\"{:.2f}\".format)\n",
    "file_df.head()"
   ]
  },
  {
   "cell_type": "code",
   "execution_count": 6,
   "metadata": {},
   "outputs": [
    {
     "data": {
      "text/plain": [
       "id             int64\n",
       "city          object\n",
       "avg_cost      object\n",
       "population    object\n",
       "other         object\n",
       "dtype: object"
      ]
     },
     "execution_count": 6,
     "metadata": {},
     "output_type": "execute_result"
    }
   ],
   "source": [
    "# Mapping has changed the datatypes of the columns to strings\n",
    "file_df.dtypes"
   ]
  },
  {
   "cell_type": "markdown",
   "metadata": {},
   "source": [
    "### String Formatting Recipes!\n",
    "[Python String Format Cookbook](https://mkaz.blog/code/python-string-format-cookbook/)\n",
    "\n",
    "https://docs.python.org/3.4/library/string.html"
   ]
  },
  {
   "cell_type": "code",
   "execution_count": 3,
   "metadata": {},
   "outputs": [
    {
     "data": {
      "text/plain": [
       "'$4000.00'"
      ]
     },
     "execution_count": 3,
     "metadata": {},
     "output_type": "execute_result"
    }
   ],
   "source": [
    "\"${:.2f}\".format(4000)"
   ]
  },
  {
   "cell_type": "code",
   "execution_count": null,
   "metadata": {},
   "outputs": [],
   "source": []
  }
 ],
 "metadata": {
  "kernel_info": {
   "name": "python3"
  },
  "kernelspec": {
   "display_name": "Python 3",
   "language": "python",
   "name": "python3"
  },
  "language_info": {
   "codemirror_mode": {
    "name": "ipython",
    "version": 3
   },
   "file_extension": ".py",
   "mimetype": "text/x-python",
   "name": "python",
   "nbconvert_exporter": "python",
   "pygments_lexer": "ipython3",
   "version": "3.7.1"
  },
  "nteract": {
   "version": "0.2.0"
  }
 },
 "nbformat": 4,
 "nbformat_minor": 2
}
