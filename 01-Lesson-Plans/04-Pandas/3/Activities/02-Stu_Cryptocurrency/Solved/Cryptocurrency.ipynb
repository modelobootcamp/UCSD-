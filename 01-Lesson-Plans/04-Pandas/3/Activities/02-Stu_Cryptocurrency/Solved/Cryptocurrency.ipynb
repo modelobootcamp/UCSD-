{
 "cells": [
  {
   "cell_type": "code",
   "execution_count": null,
   "metadata": {},
   "outputs": [],
   "source": [
    "# Import Dependencies\n",
    "import pandas as pd"
   ]
  },
  {
   "cell_type": "code",
   "execution_count": null,
   "metadata": {},
   "outputs": [],
   "source": [
    "bitcoin_csv = \"Resources/bitcoin_cash_price.csv\"\n",
    "dash_csv = \"Resources/dash_price.csv\""
   ]
  },
  {
   "cell_type": "code",
   "execution_count": null,
   "metadata": {},
   "outputs": [],
   "source": [
    "bitcoin_df = pd.read_csv(bitcoin_csv)\n",
    "dash_df = pd.read_csv(dash_csv)"
   ]
  },
  {
   "cell_type": "code",
   "execution_count": null,
   "metadata": {},
   "outputs": [],
   "source": [
    "bitcoin_df.head()"
   ]
  },
  {
   "cell_type": "code",
   "execution_count": null,
   "metadata": {},
   "outputs": [],
   "source": [
    "dash_df.head()"
   ]
  },
  {
   "cell_type": "code",
   "execution_count": null,
   "metadata": {},
   "outputs": [],
   "source": [
    "# Merge the two DataFrames together based on the Dates they share\n",
    "crypto_df = pd.merge(bitcoin_df, dash_df, on=\"Date\")\n",
    "crypto_df.head()"
   ]
  },
  {
   "cell_type": "code",
   "execution_count": null,
   "metadata": {},
   "outputs": [],
   "source": [
    "# Rename columns so that they are differentiated\n",
    "crypto_df = crypto_df.rename(columns={\"Open_x\": \"Bitcoin Open\", \"High_x\": \"Bitcoin High\", \"Low_x\": \"Bitcoin Low\",\n",
    "                                      \"Close_x\": \"Bitcoin Close\", \"Volume_x\": \"Bitcoin Volume\", \"Market Cap_x\": \"Bitcoin Market Cap\"})\n",
    "crypto_df.head()\n",
    "\n"
   ]
  },
  {
   "cell_type": "code",
   "execution_count": null,
   "metadata": {},
   "outputs": [],
   "source": [
    "columns_renamed = {\n",
    "    \"Open_x\": \"Bitcoin Open\"\n",
    "    ,\"High_x\": \"Bitcoin High\"\n",
    "    ,\"Low_x\": \"Bitcoin Low\"\n",
    "    ,\"Close_x\": \"Bitcoin Close\"\n",
    "    ,\"Volume_x\": \"Bitcoin Volume\"\n",
    "    ,\"Market Cap_x\": \"Bitcoin Market Cap\"\n",
    "    ,\"Open_y\": \"Dash Open\"\n",
    "    ,\"High_y\": \"Dash High\"\n",
    "    ,\"Low_y\": \"Dash Low\"\n",
    "    ,\"Close_y\": \"Dash Close\"\n",
    "    ,\"Volume_y\": \"Dash Volume\"\n",
    "    ,\"Market Cap_y\": \"Dash Market Cap\"}  \n",
    "    "
   ]
  },
  {
   "cell_type": "code",
   "execution_count": null,
   "metadata": {
    "scrolled": true
   },
   "outputs": [],
   "source": [
    "# Rename columns so that they are differentiated\n",
    "\n",
    "crypto_df = crypto_df.rename(columns= columns_renamed )\n"
   ]
  },
  {
   "cell_type": "code",
   "execution_count": null,
   "metadata": {},
   "outputs": [],
   "source": [
    "# alternatively you can set your suffixes when the merge occurs\n",
    "alternative_merge = pd.merge(\n",
    "    bitcoin_df, dash_df, on=\"Date\", suffixes=(\"_Bitcoin\", \"_Dash\"))\n",
    "alternative_merge.head()"
   ]
  },
  {
   "cell_type": "code",
   "execution_count": null,
   "metadata": {},
   "outputs": [],
   "source": [
    "# Collecting best open for Bitcoin and Dash\n",
    "bitcoin_open = crypto_df[\"Bitcoin Open\"].max()\n",
    "dash_open = crypto_df[\"Dash Open\"].max()"
   ]
  },
  {
   "cell_type": "code",
   "execution_count": null,
   "metadata": {},
   "outputs": [],
   "source": [
    "type(bitcoin_open)"
   ]
  },
  {
   "cell_type": "code",
   "execution_count": null,
   "metadata": {},
   "outputs": [],
   "source": [
    "# Collecting best close for Bitcoin and Dash\n",
    "bitcoin_close = crypto_df[\"Bitcoin Close\"].max()\n",
    "dash_close = crypto_df[\"Dash Close\"].max()\n",
    "\n",
    "# Collecting the total volume for Bitcoin and Dash\n",
    "bitcoin_volume = round(crypto_df[\"Bitcoin Volume\"].sum()/1000000, 2)\n",
    "dash_volume = round(crypto_df[\"Dash Volume\"].sum()/1000000, 2)"
   ]
  },
  {
   "cell_type": "code",
   "execution_count": null,
   "metadata": {},
   "outputs": [],
   "source": []
  },
  {
   "cell_type": "code",
   "execution_count": null,
   "metadata": {},
   "outputs": [],
   "source": [
    "# Creating a summary DataFrame using above values\n",
    "summary_df = pd.DataFrame({\"Best Bitcoin Open\": [bitcoin_open],\n",
    "                           \"Best Bitcoin Close\": [bitcoin_close],\n",
    "                           \"Total Bitcoin Volume\": str(bitcoin_volume)+\" million\",\n",
    "                           \"Best Dash Open\": [dash_open],\n",
    "                           \"Best Dash Close\": [dash_close],\n",
    "                           \"Total Dash Volume\": str(dash_volume)+\" million\"})\n",
    "\n",
    "summary_df"
   ]
  },
  {
   "cell_type": "code",
   "execution_count": null,
   "metadata": {},
   "outputs": [],
   "source": []
  }
 ],
 "metadata": {
  "kernelspec": {
   "display_name": "Python 3",
   "language": "python",
   "name": "python3"
  },
  "language_info": {
   "codemirror_mode": {
    "name": "ipython",
    "version": 3
   },
   "file_extension": ".py",
   "mimetype": "text/x-python",
   "name": "python",
   "nbconvert_exporter": "python",
   "pygments_lexer": "ipython3",
   "version": "3.7.1"
  }
 },
 "nbformat": 4,
 "nbformat_minor": 2
}
